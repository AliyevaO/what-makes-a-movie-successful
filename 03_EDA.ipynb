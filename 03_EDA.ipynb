{
 "cells": [
  {
   "cell_type": "code",
   "execution_count": 1,
   "id": "80cdaece",
   "metadata": {},
   "outputs": [],
   "source": [
    "import pandas as pd\n",
    "import numpy as np\n",
    "import matplotlib.pyplot as plt\n",
    "import seaborn as sns"
   ]
  },
  {
   "cell_type": "code",
   "execution_count": 2,
   "id": "0f483f70",
   "metadata": {},
   "outputs": [
    {
     "data": {
      "text/html": [
       "<div>\n",
       "<style scoped>\n",
       "    .dataframe tbody tr th:only-of-type {\n",
       "        vertical-align: middle;\n",
       "    }\n",
       "\n",
       "    .dataframe tbody tr th {\n",
       "        vertical-align: top;\n",
       "    }\n",
       "\n",
       "    .dataframe thead th {\n",
       "        text-align: right;\n",
       "    }\n",
       "</style>\n",
       "<table border=\"1\" class=\"dataframe\">\n",
       "  <thead>\n",
       "    <tr style=\"text-align: right;\">\n",
       "      <th></th>\n",
       "      <th>imdb_id</th>\n",
       "      <th>adult</th>\n",
       "      <th>backdrop_path</th>\n",
       "      <th>belongs_to_collection</th>\n",
       "      <th>budget</th>\n",
       "      <th>genres</th>\n",
       "      <th>homepage</th>\n",
       "      <th>id</th>\n",
       "      <th>original_language</th>\n",
       "      <th>original_title</th>\n",
       "      <th>...</th>\n",
       "      <th>revenue</th>\n",
       "      <th>runtime</th>\n",
       "      <th>spoken_languages</th>\n",
       "      <th>status</th>\n",
       "      <th>tagline</th>\n",
       "      <th>title</th>\n",
       "      <th>video</th>\n",
       "      <th>vote_average</th>\n",
       "      <th>vote_count</th>\n",
       "      <th>certification</th>\n",
       "    </tr>\n",
       "  </thead>\n",
       "  <tbody>\n",
       "    <tr>\n",
       "      <th>0</th>\n",
       "      <td>tt0113026</td>\n",
       "      <td>0.0</td>\n",
       "      <td>/vMFs7nw6P0bIV1jDsQpxAieAVnH.jpg</td>\n",
       "      <td>NaN</td>\n",
       "      <td>10000000.0</td>\n",
       "      <td>[{'id': 35, 'name': 'Comedy'}, {'id': 10402, '...</td>\n",
       "      <td>NaN</td>\n",
       "      <td>62127.0</td>\n",
       "      <td>en</td>\n",
       "      <td>The Fantasticks</td>\n",
       "      <td>...</td>\n",
       "      <td>0.0</td>\n",
       "      <td>86.0</td>\n",
       "      <td>[{'english_name': 'English', 'iso_639_1': 'en'...</td>\n",
       "      <td>Released</td>\n",
       "      <td>Try to remember the first time magic happened</td>\n",
       "      <td>The Fantasticks</td>\n",
       "      <td>0.0</td>\n",
       "      <td>5.4</td>\n",
       "      <td>21.0</td>\n",
       "      <td>NaN</td>\n",
       "    </tr>\n",
       "    <tr>\n",
       "      <th>1</th>\n",
       "      <td>tt0113092</td>\n",
       "      <td>0.0</td>\n",
       "      <td>NaN</td>\n",
       "      <td>NaN</td>\n",
       "      <td>0.0</td>\n",
       "      <td>[{'id': 878, 'name': 'Science Fiction'}]</td>\n",
       "      <td>NaN</td>\n",
       "      <td>110977.0</td>\n",
       "      <td>en</td>\n",
       "      <td>For the Cause</td>\n",
       "      <td>...</td>\n",
       "      <td>0.0</td>\n",
       "      <td>100.0</td>\n",
       "      <td>[{'english_name': 'English', 'iso_639_1': 'en'...</td>\n",
       "      <td>Released</td>\n",
       "      <td>The ultimate showdown on a forbidden planet.</td>\n",
       "      <td>For the Cause</td>\n",
       "      <td>0.0</td>\n",
       "      <td>4.4</td>\n",
       "      <td>7.0</td>\n",
       "      <td>NaN</td>\n",
       "    </tr>\n",
       "    <tr>\n",
       "      <th>2</th>\n",
       "      <td>tt0116391</td>\n",
       "      <td>0.0</td>\n",
       "      <td>NaN</td>\n",
       "      <td>NaN</td>\n",
       "      <td>0.0</td>\n",
       "      <td>[{'id': 18, 'name': 'Drama'}, {'id': 28, 'name...</td>\n",
       "      <td>NaN</td>\n",
       "      <td>442869.0</td>\n",
       "      <td>hi</td>\n",
       "      <td>Gang</td>\n",
       "      <td>...</td>\n",
       "      <td>0.0</td>\n",
       "      <td>152.0</td>\n",
       "      <td>[{'english_name': 'Hindi', 'iso_639_1': 'hi', ...</td>\n",
       "      <td>Released</td>\n",
       "      <td>NaN</td>\n",
       "      <td>Gang</td>\n",
       "      <td>0.0</td>\n",
       "      <td>0.0</td>\n",
       "      <td>0.0</td>\n",
       "      <td>NaN</td>\n",
       "    </tr>\n",
       "    <tr>\n",
       "      <th>3</th>\n",
       "      <td>tt0118694</td>\n",
       "      <td>0.0</td>\n",
       "      <td>/n4GJFGzsc7NinI1VeGDXIcQjtU2.jpg</td>\n",
       "      <td>NaN</td>\n",
       "      <td>150000.0</td>\n",
       "      <td>[{'id': 18, 'name': 'Drama'}, {'id': 10749, 'n...</td>\n",
       "      <td>http://www.wkw-inthemoodforlove.com/</td>\n",
       "      <td>843.0</td>\n",
       "      <td>cn</td>\n",
       "      <td>花樣年華</td>\n",
       "      <td>...</td>\n",
       "      <td>12854953.0</td>\n",
       "      <td>99.0</td>\n",
       "      <td>[{'english_name': 'Cantonese', 'iso_639_1': 'c...</td>\n",
       "      <td>Released</td>\n",
       "      <td>Feel the heat, keep the feeling burning, let t...</td>\n",
       "      <td>In the Mood for Love</td>\n",
       "      <td>0.0</td>\n",
       "      <td>8.1</td>\n",
       "      <td>1859.0</td>\n",
       "      <td>PG</td>\n",
       "    </tr>\n",
       "    <tr>\n",
       "      <th>4</th>\n",
       "      <td>tt0118852</td>\n",
       "      <td>0.0</td>\n",
       "      <td>NaN</td>\n",
       "      <td>NaN</td>\n",
       "      <td>0.0</td>\n",
       "      <td>[{'id': 18, 'name': 'Drama'}]</td>\n",
       "      <td>NaN</td>\n",
       "      <td>49511.0</td>\n",
       "      <td>en</td>\n",
       "      <td>Chinese Coffee</td>\n",
       "      <td>...</td>\n",
       "      <td>0.0</td>\n",
       "      <td>99.0</td>\n",
       "      <td>[{'english_name': 'English', 'iso_639_1': 'en'...</td>\n",
       "      <td>Released</td>\n",
       "      <td>There's a fine line between friendship and bet...</td>\n",
       "      <td>Chinese Coffee</td>\n",
       "      <td>0.0</td>\n",
       "      <td>6.9</td>\n",
       "      <td>45.0</td>\n",
       "      <td>R</td>\n",
       "    </tr>\n",
       "  </tbody>\n",
       "</table>\n",
       "<p>5 rows × 26 columns</p>\n",
       "</div>"
      ],
      "text/plain": [
       "     imdb_id  adult                     backdrop_path belongs_to_collection  \\\n",
       "0  tt0113026    0.0  /vMFs7nw6P0bIV1jDsQpxAieAVnH.jpg                   NaN   \n",
       "1  tt0113092    0.0                               NaN                   NaN   \n",
       "2  tt0116391    0.0                               NaN                   NaN   \n",
       "3  tt0118694    0.0  /n4GJFGzsc7NinI1VeGDXIcQjtU2.jpg                   NaN   \n",
       "4  tt0118852    0.0                               NaN                   NaN   \n",
       "\n",
       "       budget                                             genres  \\\n",
       "0  10000000.0  [{'id': 35, 'name': 'Comedy'}, {'id': 10402, '...   \n",
       "1         0.0           [{'id': 878, 'name': 'Science Fiction'}]   \n",
       "2         0.0  [{'id': 18, 'name': 'Drama'}, {'id': 28, 'name...   \n",
       "3    150000.0  [{'id': 18, 'name': 'Drama'}, {'id': 10749, 'n...   \n",
       "4         0.0                      [{'id': 18, 'name': 'Drama'}]   \n",
       "\n",
       "                               homepage        id original_language  \\\n",
       "0                                   NaN   62127.0                en   \n",
       "1                                   NaN  110977.0                en   \n",
       "2                                   NaN  442869.0                hi   \n",
       "3  http://www.wkw-inthemoodforlove.com/     843.0                cn   \n",
       "4                                   NaN   49511.0                en   \n",
       "\n",
       "    original_title  ...     revenue  runtime  \\\n",
       "0  The Fantasticks  ...         0.0     86.0   \n",
       "1    For the Cause  ...         0.0    100.0   \n",
       "2             Gang  ...         0.0    152.0   \n",
       "3             花樣年華  ...  12854953.0     99.0   \n",
       "4   Chinese Coffee  ...         0.0     99.0   \n",
       "\n",
       "                                    spoken_languages    status  \\\n",
       "0  [{'english_name': 'English', 'iso_639_1': 'en'...  Released   \n",
       "1  [{'english_name': 'English', 'iso_639_1': 'en'...  Released   \n",
       "2  [{'english_name': 'Hindi', 'iso_639_1': 'hi', ...  Released   \n",
       "3  [{'english_name': 'Cantonese', 'iso_639_1': 'c...  Released   \n",
       "4  [{'english_name': 'English', 'iso_639_1': 'en'...  Released   \n",
       "\n",
       "                                             tagline                 title  \\\n",
       "0      Try to remember the first time magic happened       The Fantasticks   \n",
       "1       The ultimate showdown on a forbidden planet.         For the Cause   \n",
       "2                                                NaN                  Gang   \n",
       "3  Feel the heat, keep the feeling burning, let t...  In the Mood for Love   \n",
       "4  There's a fine line between friendship and bet...        Chinese Coffee   \n",
       "\n",
       "   video  vote_average vote_count certification  \n",
       "0    0.0           5.4       21.0           NaN  \n",
       "1    0.0           4.4        7.0           NaN  \n",
       "2    0.0           0.0        0.0           NaN  \n",
       "3    0.0           8.1     1859.0            PG  \n",
       "4    0.0           6.9       45.0             R  \n",
       "\n",
       "[5 rows x 26 columns]"
      ]
     },
     "execution_count": 2,
     "metadata": {},
     "output_type": "execute_result"
    }
   ],
   "source": [
    "#load dataframe\n",
    "df = pd.read_csv('Data/tmdb_results_combined_2000_2001.csv.gz')\n",
    "df.head()"
   ]
  },
  {
   "cell_type": "code",
   "execution_count": 3,
   "id": "72b1531c",
   "metadata": {},
   "outputs": [
    {
     "data": {
      "text/html": [
       "<div>\n",
       "<style scoped>\n",
       "    .dataframe tbody tr th:only-of-type {\n",
       "        vertical-align: middle;\n",
       "    }\n",
       "\n",
       "    .dataframe tbody tr th {\n",
       "        vertical-align: top;\n",
       "    }\n",
       "\n",
       "    .dataframe thead th {\n",
       "        text-align: right;\n",
       "    }\n",
       "</style>\n",
       "<table border=\"1\" class=\"dataframe\">\n",
       "  <thead>\n",
       "    <tr style=\"text-align: right;\">\n",
       "      <th></th>\n",
       "      <th>imdb_id</th>\n",
       "      <th>budget</th>\n",
       "      <th>revenue</th>\n",
       "      <th>release_date</th>\n",
       "      <th>certification</th>\n",
       "    </tr>\n",
       "  </thead>\n",
       "  <tbody>\n",
       "    <tr>\n",
       "      <th>0</th>\n",
       "      <td>tt0113026</td>\n",
       "      <td>10000000.0</td>\n",
       "      <td>0.0</td>\n",
       "      <td>2000-09-22</td>\n",
       "      <td>NaN</td>\n",
       "    </tr>\n",
       "    <tr>\n",
       "      <th>1</th>\n",
       "      <td>tt0113092</td>\n",
       "      <td>0.0</td>\n",
       "      <td>0.0</td>\n",
       "      <td>2000-11-15</td>\n",
       "      <td>NaN</td>\n",
       "    </tr>\n",
       "    <tr>\n",
       "      <th>2</th>\n",
       "      <td>tt0116391</td>\n",
       "      <td>0.0</td>\n",
       "      <td>0.0</td>\n",
       "      <td>2000-04-14</td>\n",
       "      <td>NaN</td>\n",
       "    </tr>\n",
       "    <tr>\n",
       "      <th>3</th>\n",
       "      <td>tt0118694</td>\n",
       "      <td>150000.0</td>\n",
       "      <td>12854953.0</td>\n",
       "      <td>2000-09-29</td>\n",
       "      <td>PG</td>\n",
       "    </tr>\n",
       "    <tr>\n",
       "      <th>4</th>\n",
       "      <td>tt0118852</td>\n",
       "      <td>0.0</td>\n",
       "      <td>0.0</td>\n",
       "      <td>2000-09-02</td>\n",
       "      <td>R</td>\n",
       "    </tr>\n",
       "  </tbody>\n",
       "</table>\n",
       "</div>"
      ],
      "text/plain": [
       "     imdb_id      budget     revenue release_date certification\n",
       "0  tt0113026  10000000.0         0.0   2000-09-22           NaN\n",
       "1  tt0113092         0.0         0.0   2000-11-15           NaN\n",
       "2  tt0116391         0.0         0.0   2000-04-14           NaN\n",
       "3  tt0118694    150000.0  12854953.0   2000-09-29            PG\n",
       "4  tt0118852         0.0         0.0   2000-09-02             R"
      ]
     },
     "execution_count": 3,
     "metadata": {},
     "output_type": "execute_result"
    }
   ],
   "source": [
    "#creat new dataframe with columns needed for analysis and visualisation\n",
    "df_new = df[['imdb_id','budget','revenue', 'release_date', 'certification']]\n",
    "df_new.head()"
   ]
  },
  {
   "cell_type": "code",
   "execution_count": 4,
   "id": "5b2c41ca",
   "metadata": {
    "scrolled": true
   },
   "outputs": [
    {
     "name": "stdout",
     "output_type": "stream",
     "text": [
      "<class 'pandas.core.frame.DataFrame'>\n",
      "RangeIndex: 2472 entries, 0 to 2471\n",
      "Data columns (total 5 columns):\n",
      " #   Column         Non-Null Count  Dtype  \n",
      "---  ------         --------------  -----  \n",
      " 0   imdb_id        2472 non-null   object \n",
      " 1   budget         2472 non-null   float64\n",
      " 2   revenue        2472 non-null   float64\n",
      " 3   release_date   2450 non-null   object \n",
      " 4   certification  785 non-null    object \n",
      "dtypes: float64(2), object(3)\n",
      "memory usage: 96.7+ KB\n"
     ]
    }
   ],
   "source": [
    "#check info\n",
    "df_new.info()"
   ]
  },
  {
   "cell_type": "markdown",
   "id": "cc0730c7",
   "metadata": {},
   "source": [
    "* How many movies had at least some valid financial information (values > 0 for budget OR revenue)?"
   ]
  },
  {
   "cell_type": "code",
   "execution_count": 5,
   "id": "cd22960f",
   "metadata": {},
   "outputs": [
    {
     "data": {
      "text/plain": [
       "615"
      ]
     },
     "execution_count": 5,
     "metadata": {},
     "output_type": "execute_result"
    }
   ],
   "source": [
    "#check number of movies that have at least some valid financial information\n",
    "len(df_new[(df_new['budget']>0) | (df_new['revenue']>0)])"
   ]
  },
  {
   "cell_type": "markdown",
   "id": "6546f0be",
   "metadata": {},
   "source": [
    "* Please exclude any movies with 0's for budget AND revenue from the remaining visualizations."
   ]
  },
  {
   "cell_type": "code",
   "execution_count": 6,
   "id": "024da622",
   "metadata": {},
   "outputs": [
    {
     "data": {
      "text/html": [
       "<div>\n",
       "<style scoped>\n",
       "    .dataframe tbody tr th:only-of-type {\n",
       "        vertical-align: middle;\n",
       "    }\n",
       "\n",
       "    .dataframe tbody tr th {\n",
       "        vertical-align: top;\n",
       "    }\n",
       "\n",
       "    .dataframe thead th {\n",
       "        text-align: right;\n",
       "    }\n",
       "</style>\n",
       "<table border=\"1\" class=\"dataframe\">\n",
       "  <thead>\n",
       "    <tr style=\"text-align: right;\">\n",
       "      <th></th>\n",
       "      <th>imdb_id</th>\n",
       "      <th>budget</th>\n",
       "      <th>revenue</th>\n",
       "      <th>release_date</th>\n",
       "      <th>certification</th>\n",
       "    </tr>\n",
       "  </thead>\n",
       "  <tbody>\n",
       "    <tr>\n",
       "      <th>3</th>\n",
       "      <td>tt0118694</td>\n",
       "      <td>150000.0</td>\n",
       "      <td>12854953.0</td>\n",
       "      <td>2000-09-29</td>\n",
       "      <td>PG</td>\n",
       "    </tr>\n",
       "    <tr>\n",
       "      <th>10</th>\n",
       "      <td>tt0120467</td>\n",
       "      <td>120000.0</td>\n",
       "      <td>14904.0</td>\n",
       "      <td>2002-04-26</td>\n",
       "      <td>R</td>\n",
       "    </tr>\n",
       "    <tr>\n",
       "      <th>12</th>\n",
       "      <td>tt0120630</td>\n",
       "      <td>45000000.0</td>\n",
       "      <td>224834564.0</td>\n",
       "      <td>2000-06-21</td>\n",
       "      <td>G</td>\n",
       "    </tr>\n",
       "    <tr>\n",
       "      <th>15</th>\n",
       "      <td>tt0120753</td>\n",
       "      <td>8000000.0</td>\n",
       "      <td>105983.0</td>\n",
       "      <td>2000-02-09</td>\n",
       "      <td>R</td>\n",
       "    </tr>\n",
       "    <tr>\n",
       "      <th>16</th>\n",
       "      <td>tt0120755</td>\n",
       "      <td>125000000.0</td>\n",
       "      <td>546388105.0</td>\n",
       "      <td>2000-05-24</td>\n",
       "      <td>PG-13</td>\n",
       "    </tr>\n",
       "    <tr>\n",
       "      <th>...</th>\n",
       "      <td>...</td>\n",
       "      <td>...</td>\n",
       "      <td>...</td>\n",
       "      <td>...</td>\n",
       "      <td>...</td>\n",
       "    </tr>\n",
       "    <tr>\n",
       "      <th>2181</th>\n",
       "      <td>tt0294289</td>\n",
       "      <td>344.0</td>\n",
       "      <td>4.0</td>\n",
       "      <td>2001-09-29</td>\n",
       "      <td>NaN</td>\n",
       "    </tr>\n",
       "    <tr>\n",
       "      <th>2211</th>\n",
       "      <td>tt0296042</td>\n",
       "      <td>1400010.0</td>\n",
       "      <td>80631.0</td>\n",
       "      <td>2001-12-22</td>\n",
       "      <td>NaN</td>\n",
       "    </tr>\n",
       "    <tr>\n",
       "      <th>2313</th>\n",
       "      <td>tt0310790</td>\n",
       "      <td>3747230.0</td>\n",
       "      <td>1951816.0</td>\n",
       "      <td>2001-01-01</td>\n",
       "      <td>NaN</td>\n",
       "    </tr>\n",
       "    <tr>\n",
       "      <th>2411</th>\n",
       "      <td>tt0445841</td>\n",
       "      <td>12500000.0</td>\n",
       "      <td>123021750.0</td>\n",
       "      <td>2001-10-11</td>\n",
       "      <td>NaN</td>\n",
       "    </tr>\n",
       "    <tr>\n",
       "      <th>2429</th>\n",
       "      <td>tt1039952</td>\n",
       "      <td>500000.0</td>\n",
       "      <td>500000.0</td>\n",
       "      <td>2001-06-08</td>\n",
       "      <td>NaN</td>\n",
       "    </tr>\n",
       "  </tbody>\n",
       "</table>\n",
       "<p>346 rows × 5 columns</p>\n",
       "</div>"
      ],
      "text/plain": [
       "        imdb_id       budget      revenue release_date certification\n",
       "3     tt0118694     150000.0   12854953.0   2000-09-29            PG\n",
       "10    tt0120467     120000.0      14904.0   2002-04-26             R\n",
       "12    tt0120630   45000000.0  224834564.0   2000-06-21             G\n",
       "15    tt0120753    8000000.0     105983.0   2000-02-09             R\n",
       "16    tt0120755  125000000.0  546388105.0   2000-05-24         PG-13\n",
       "...         ...          ...          ...          ...           ...\n",
       "2181  tt0294289        344.0          4.0   2001-09-29           NaN\n",
       "2211  tt0296042    1400010.0      80631.0   2001-12-22           NaN\n",
       "2313  tt0310790    3747230.0    1951816.0   2001-01-01           NaN\n",
       "2411  tt0445841   12500000.0  123021750.0   2001-10-11           NaN\n",
       "2429  tt1039952     500000.0     500000.0   2001-06-08           NaN\n",
       "\n",
       "[346 rows x 5 columns]"
      ]
     },
     "execution_count": 6,
     "metadata": {},
     "output_type": "execute_result"
    }
   ],
   "source": [
    "#creat new dataframe without 0's for budget AND revenue\n",
    "clean_df = df_new[(df_new['budget']>0) & (df_new['revenue']>0)]\n",
    "clean_df"
   ]
  },
  {
   "cell_type": "markdown",
   "id": "d5583a39",
   "metadata": {},
   "source": [
    "* How many movies are there in each of the certification categories (G/PG/PG-13/R)?"
   ]
  },
  {
   "cell_type": "code",
   "execution_count": 7,
   "id": "481729b4",
   "metadata": {},
   "outputs": [],
   "source": [
    "def show_values(axs, orient=\"v\", space=.01):\n",
    "    \"\"\"used a code from https://www.statology.org/seaborn-barplot-show-values/, to show values on barplot\"\"\"\n",
    "    def _single(ax):\n",
    "        if orient == \"v\":\n",
    "            for p in ax.patches:\n",
    "                _x = p.get_x() + p.get_width() / 2\n",
    "                _y = p.get_y() + p.get_height() + (p.get_height()*0.01)\n",
    "                value = '{:.1f}'.format(p.get_height())\n",
    "                ax.text(_x, _y, value, ha=\"center\") \n",
    "        elif orient == \"h\":\n",
    "            for p in ax.patches:\n",
    "                _x = p.get_x() + p.get_width() + float(space)\n",
    "                _y = p.get_y() + p.get_height() - (p.get_height()*0.5)\n",
    "                value = '{:.1f}'.format(p.get_width())\n",
    "                ax.text(_x, _y, value, ha=\"left\")\n",
    "\n",
    "    if isinstance(axs, np.ndarray):\n",
    "        for idx, ax in np.ndenumerate(axs):\n",
    "            _single(ax)\n",
    "    else:\n",
    "        _single(axs)"
   ]
  },
  {
   "cell_type": "code",
   "execution_count": 8,
   "id": "1dfa6205",
   "metadata": {},
   "outputs": [
    {
     "data": {
      "image/png": "[encoded data removed]",
      "text/plain": [
       "<Figure size 648x432 with 1 Axes>"
      ]
     },
     "metadata": {
      "needs_background": "light"
     },
     "output_type": "display_data"
    }
   ],
   "source": [
    "#creat countplot\n",
    "plt.figure(figsize=(9,6))\n",
    "ax = sns.countplot(data=clean_df, x ='certification')\n",
    "ax.set_title('Number of movies in certification categories', fontsize=15)\n",
    "show_values(ax)\n",
    "plt.savefig('Number of movies in certification categories.png', dpi = 300);"
   ]
  },
  {
   "cell_type": "markdown",
   "id": "7db1561c",
   "metadata": {},
   "source": [
    "We have the most movies in categories R and PG-13, 138 and 117 correspondingly. "
   ]
  },
  {
   "cell_type": "markdown",
   "id": "f36557df",
   "metadata": {},
   "source": [
    "* What is the average revenue per certification category?"
   ]
  },
  {
   "cell_type": "code",
   "execution_count": 9,
   "id": "4bed7f06",
   "metadata": {},
   "outputs": [
    {
     "data": {
      "image/png": "[encoded data removed]",
      "text/plain": [
       "<Figure size 576x432 with 1 Axes>"
      ]
     },
     "metadata": {
      "needs_background": "light"
     },
     "output_type": "display_data"
    }
   ],
   "source": [
    "#creat a barplot\n",
    "#used code from: https://stackoverflow.com/questions/61330427/set-y-axis-in-millions to show millions \n",
    "from matplotlib.ticker import FuncFormatter\n",
    "import matplotlib.pyplot as plt\n",
    "def millions(x, pos):\n",
    "    'The two args are the value and tick position'\n",
    "    return '%1.1fM' % (x * 1e-6)\n",
    "formatter = FuncFormatter(millions) \n",
    "\n",
    "plt.figure(figsize=(8,6))\n",
    "ax = sns.barplot(data=clean_df, x ='certification', y = 'revenue')\n",
    "ax.set_title('Average revenue per certification category', fontsize=15)\n",
    "ax.yaxis.set_major_formatter(formatter)\n",
    "plt.savefig('Average revenue per certification category.png', dpi = 300);"
   ]
  },
  {
   "cell_type": "markdown",
   "id": "806ddea8",
   "metadata": {},
   "source": [
    "The highest average revenue have categories PG an G on level of 140.000.000 $."
   ]
  },
  {
   "cell_type": "markdown",
   "id": "1aea2eee",
   "metadata": {},
   "source": [
    "* What is the average budget per certification category?"
   ]
  },
  {
   "cell_type": "code",
   "execution_count": 10,
   "id": "d8db55ee",
   "metadata": {},
   "outputs": [
    {
     "data": {
      "image/png": "[encoded data removed]",
      "text/plain": [
       "<Figure size 576x432 with 1 Axes>"
      ]
     },
     "metadata": {
      "needs_background": "light"
     },
     "output_type": "display_data"
    }
   ],
   "source": [
    "#creat a barplot\n",
    "plt.figure(figsize=(8,6))\n",
    "ax = sns.barplot(data=clean_df, x ='certification', y = 'budget')\n",
    "ax.set_title('Average budget per certification category', fontsize=15)\n",
    "ax.yaxis.set_major_formatter(formatter)\n",
    "plt.savefig('Average budget per certification category.png', dpi = 300);"
   ]
  },
  {
   "cell_type": "markdown",
   "id": "5a65a552",
   "metadata": {},
   "source": [
    "The highest average budget has a category PG."
   ]
  }
 ],
 "metadata": {
  "kernelspec": {
   "display_name": "Python (dojo-env)",
   "language": "python",
   "name": "dojo-env"
  },
  "language_info": {
   "codemirror_mode": {
    "name": "ipython",
    "version": 3
   },
   "file_extension": ".py",
   "mimetype": "text/x-python",
   "name": "python",
   "nbconvert_exporter": "python",
   "pygments_lexer": "ipython3",
   "version": "3.7.12"
  },
  "toc": {
   "base_numbering": 1,
   "nav_menu": {},
   "number_sections": true,
   "sideBar": true,
   "skip_h1_title": false,
   "title_cell": "Table of Contents",
   "title_sidebar": "Contents",
   "toc_cell": false,
   "toc_position": {},
   "toc_section_display": true,
   "toc_window_display": false
  }
 },
 "nbformat": 4,
 "nbformat_minor": 5
}
