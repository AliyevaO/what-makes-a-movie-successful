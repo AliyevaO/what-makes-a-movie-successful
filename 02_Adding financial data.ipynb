{
 "cells": [
  {
   "cell_type": "markdown",
   "id": "236c2da5",
   "metadata": {},
   "source": [
    "**Extract more Data from TMDB!**\n",
    "\n",
    "* There is no financial information included in the IMDB data (e.g. budget or revenue).\n",
    "\n",
    "* This will be a major roadblock when attempting to analyze which movies are successful and must be addressed before you will be able to determine which movies are successful.\n",
    "\n",
    "* The Movie Database (TMDB) as a great source of financial data (https://www.themoviedb.org/) and offers a free API for programmatic access to their data!\n",
    "\n",
    "* My stakeholder wants you to extract the budget, revenue, and MPAA Rating (G/PG/PG-13/R), which is also called \"Certification\".\n",
    "\n",
    "**Specifications**\n",
    "\n",
    "* My stakeholder would like me to extract and save the results for movies that meet all of the criteria established in the first part of the project.\n",
    "\n",
    "* As a proof-of-concept, they requested I perform a test extraction of movies that started in 2000 or 2001\n",
    "\n",
    "* Each year should be saved as a separate .csv.gz file"
   ]
  },
  {
   "cell_type": "code",
   "execution_count": 1,
   "id": "4eefb5d6",
   "metadata": {},
   "outputs": [],
   "source": [
    "#import libraries\n",
    "import pandas as pd\n",
    "import numpy as np\n",
    "import matplotlib.pyplot as plt\n",
    "import seaborn as sns\n",
    "from tqdm.notebook import tqdm_notebook"
   ]
  },
  {
   "cell_type": "code",
   "execution_count": 2,
   "id": "168af4fa",
   "metadata": {},
   "outputs": [
    {
     "data": {
      "text/plain": [
       "dict_keys(['client-id', 'api-key'])"
      ]
     },
     "execution_count": 2,
     "metadata": {},
     "output_type": "execute_result"
    }
   ],
   "source": [
    "import json\n",
    "with open('/Users/oleksandraaliyeva/.secret/tmdb_api.json', 'r') as f:\n",
    "    login = json.load(f)\n",
    "## Display the keys of the loaded dict\n",
    "login.keys()"
   ]
  },
  {
   "cell_type": "code",
   "execution_count": 3,
   "id": "9dadd744",
   "metadata": {},
   "outputs": [],
   "source": [
    "import tmdbsimple as tmdb\n",
    "tmdb.API_KEY =  login['api-key']"
   ]
  },
  {
   "cell_type": "code",
   "execution_count": 4,
   "id": "3e76a41d",
   "metadata": {},
   "outputs": [
    {
     "data": {
      "text/plain": [
       "[]"
      ]
     },
     "execution_count": 4,
     "metadata": {},
     "output_type": "execute_result"
    }
   ],
   "source": [
    "#create folder for data\n",
    "import os\n",
    "FOLDER = \"Data\"\n",
    "os.makedirs(FOLDER, exist_ok=True)\n",
    "os.listdir(FOLDER)"
   ]
  },
  {
   "cell_type": "code",
   "execution_count": 5,
   "id": "8e79335e",
   "metadata": {},
   "outputs": [],
   "source": [
    "#creat instance for years\n",
    "YEARS_TO_GET = list(range(2000,2022))"
   ]
  },
  {
   "cell_type": "code",
   "execution_count": 6,
   "id": "b61ec29e",
   "metadata": {},
   "outputs": [],
   "source": [
    "#function to get movie rating\n",
    "def get_movie_with_rating(movie_id): \n",
    "    \n",
    "    #get the movie object for the current id\n",
    "    movie = tmdb.Movies(movie_id)\n",
    "    \n",
    "    #save the .info .releases dictionaries\n",
    "    movie_info = movie.info()\n",
    "    releases = movie.releases()\n",
    "    \n",
    "    #loop through countries in releases\n",
    "    for c in releases['countries']:\n",
    "        #if the country abbreviation==US\n",
    "        if c['iso_3166_1'] =='US':\n",
    "            #save a \"certification\" key in the info dict with the certification\n",
    "            movie_info['certification'] = c['certification']\n",
    "            \n",
    "    return movie_info"
   ]
  },
  {
   "cell_type": "code",
   "execution_count": 7,
   "id": "1cfc83df",
   "metadata": {},
   "outputs": [],
   "source": [
    "#function to create a new json file \n",
    "def write_json(new_data, filename): \n",
    "        \"\"\"Adapted from: https://www.geeksforgeeks.org/append-to-json-file-using-python/\"\"\"  \n",
    "        \n",
    "        with open(filename,'r+') as file:\n",
    "            #first we load existing data into a dict.\n",
    "            file_data = json.load(file)\n",
    "            \n",
    "            #choose extend or append\n",
    "            if (type(new_data) == list) & (type(file_data) == list):\n",
    "                file_data.extend(new_data)\n",
    "            else:\n",
    "                file_data.append(new_data)\n",
    "                \n",
    "        #sets file's current position at offset.\n",
    "            file.seek(0)\n",
    "            \n",
    "        #convert back to json.\n",
    "            json.dump(file_data, file)"
   ]
  },
  {
   "cell_type": "code",
   "execution_count": 8,
   "id": "a05dfda1",
   "metadata": {},
   "outputs": [],
   "source": [
    "#load in the dataframe from project part 1 as basics:\n",
    "basics = pd.read_csv('Data/basics.csv.gz')"
   ]
  },
  {
   "cell_type": "code",
   "execution_count": null,
   "id": "e8018d11",
   "metadata": {},
   "outputs": [
    {
     "data": {
      "application/vnd.jupyter.widget-view+json": {
       "model_id": "09e5b0e59a324ed4862a62fbf7428d46",
       "version_major": 2,
       "version_minor": 0
      },
      "text/plain": [
       "YEARS:   0%|          | 0/22 [00:00<?, ?it/s]"
      ]
     },
     "metadata": {},
     "output_type": "display_data"
    },
    {
     "data": {
      "application/vnd.jupyter.widget-view+json": {
       "model_id": "45aa0ddfe65d4b3fae78b50dcbd893b4",
       "version_major": 2,
       "version_minor": 0
      },
      "text/plain": [
       "Movies from 2000:   0%|          | 0/1403 [00:00<?, ?it/s]"
      ]
     },
     "metadata": {},
     "output_type": "display_data"
    },
    {
     "data": {
      "application/vnd.jupyter.widget-view+json": {
       "model_id": "66114a15bba947b2844ddd75e23ba956",
       "version_major": 2,
       "version_minor": 0
      },
      "text/plain": [
       "Movies from 2001:   0%|          | 0/1517 [00:00<?, ?it/s]"
      ]
     },
     "metadata": {},
     "output_type": "display_data"
    },
    {
     "data": {
      "application/vnd.jupyter.widget-view+json": {
       "model_id": "6f9e9879cc54424b847c1e69ece93559",
       "version_major": 2,
       "version_minor": 0
      },
      "text/plain": [
       "Movies from 2002:   0%|          | 0/1505 [00:00<?, ?it/s]"
      ]
     },
     "metadata": {},
     "output_type": "display_data"
    }
   ],
   "source": [
    "#start of OUTER loop\n",
    "for YEAR in tqdm_notebook(YEARS_TO_GET,desc='YEARS',position=0):\n",
    "    \n",
    "    #defining the JSON file to store results for year\n",
    "    JSON_FILE = f'{FOLDER}tmdb_api_results_{YEAR}.json'\n",
    "    \n",
    "    #check if file exists\n",
    "    file_exists = os.path.isfile(JSON_FILE)\n",
    "    \n",
    "    #if it does not exist: create it\n",
    "    if file_exists == False:\n",
    "        \n",
    "        #save an empty dict with just \"imdb_id\" to the new json file.\n",
    "        with open(JSON_FILE,'w') as f:\n",
    "            json.dump([{'imdb_id':0}],f)\n",
    "    \n",
    "    #saving new year as the current df\n",
    "    df = basics.loc[ basics['startYear']==YEAR].copy()\n",
    "    \n",
    "    #saving movie ids to list\n",
    "    movie_ids = df['tconst'].copy()\n",
    "   \n",
    "    #load existing data from json into a dataframe called \"previous_df\"\n",
    "    previous_df = pd.read_json(JSON_FILE)\n",
    "    \n",
    "    # filter out any ids that are already in the JSON_FILE\n",
    "    movie_ids_to_get = movie_ids[~movie_ids.isin(previous_df['imdb_id'])]\n",
    "    \n",
    "    #INNER Loop\n",
    "    for movie_id in tqdm_notebook(movie_ids_to_get,\n",
    "                                  desc=f'Movies from {YEAR}',\n",
    "                                  position=1,\n",
    "                                  leave=True):\n",
    "        #attempt to retrieve then data for the movie id\n",
    "        try:\n",
    "            temp = get_movie_with_rating(movie_id) \n",
    "        \n",
    "            #append/extend results to existing file using a pre-made function\n",
    "            write_json(temp,JSON_FILE)\n",
    "            \n",
    "            #short 20 ms sleep to prevent overwhelming server\n",
    "            time.sleep(0.02)\n",
    "            \n",
    "        #if it fails,  make a dict with just the id and None for certification.\n",
    "        except Exception as e:\n",
    "            continue\n",
    "      \n",
    "    #open json file and save as csv\n",
    "    final_year_df = pd.read_json(JSON_FILE)\n",
    "    final_year_df.to_csv(f\"{FOLDER}final_tmdb_data_{YEAR}.csv.gz\", compression=\"gzip\", index=False)"
   ]
  },
  {
   "cell_type": "code",
   "execution_count": null,
   "id": "71d7549a",
   "metadata": {},
   "outputs": [],
   "source": [
    "#read csv file for 2000\n",
    "y_2000 = pd.read_csv('Data/final_tmdb_data_2000.csv.gz')\n",
    "\n",
    "#drop first row and check the head\n",
    "y_2000 = y_2000.iloc[1: , :]\n",
    "y_2000.head()"
   ]
  },
  {
   "cell_type": "code",
   "execution_count": null,
   "id": "39441fa6",
   "metadata": {},
   "outputs": [],
   "source": [
    "#read csv file for 2000\n",
    "y_2001 = pd.read_csv('Data/final_tmdb_data_2001.csv.gz')\n",
    "\n",
    "#drop first row and check the head\n",
    "y_2001 = y_2001.iloc[1: , :]\n",
    "y_2001.head()"
   ]
  },
  {
   "cell_type": "code",
   "execution_count": null,
   "id": "55149dcb",
   "metadata": {},
   "outputs": [],
   "source": [
    "#concatenate the previous results and new results. \n",
    "merged = pd.concat([y_2000, y_2001],\n",
    "                      ignore_index=True)\n",
    "display(merged.head(3), merged.tail(3))"
   ]
  },
  {
   "cell_type": "code",
   "execution_count": null,
   "id": "a13a22ae",
   "metadata": {},
   "outputs": [],
   "source": [
    "merged.to_csv(\"Data/tmdb_results_combined_2000_2001.csv.gz\", \n",
    "              compression=\"gzip\", index=False)"
   ]
  },
  {
   "cell_type": "code",
   "execution_count": null,
   "id": "891a9076",
   "metadata": {},
   "outputs": [],
   "source": [
    "#add the data from years 2002-2022\n",
    "YEARS_TO_GET = list(range(2002, 2022))\n",
    "for YEAR in YEARS_TO_GET:\n",
    "    df = pd.read_csv(f\"Data/final_tmdb_data_{YEAR}.csv.gz\", \n",
    "                     lineterminator='\\n')\n",
    "    merged = pd.concat([merged, df])"
   ]
  },
  {
   "cell_type": "code",
   "execution_count": null,
   "id": "a2aed55a",
   "metadata": {},
   "outputs": [],
   "source": [
    "#create one file with all data from API\n",
    "merged.to_csv(\"Data/tmdb_results_combined.csv.gz\", compression=\"gzip\", \n",
    "              index=False)"
   ]
  }
 ],
 "metadata": {
  "kernelspec": {
   "display_name": "Python (dojo-env)",
   "language": "python",
   "name": "dojo-env"
  },
  "language_info": {
   "codemirror_mode": {
    "name": "ipython",
    "version": 3
   },
   "file_extension": ".py",
   "mimetype": "text/x-python",
   "name": "python",
   "nbconvert_exporter": "python",
   "pygments_lexer": "ipython3",
   "version": "3.7.12"
  },
  "toc": {
   "base_numbering": 1,
   "nav_menu": {},
   "number_sections": true,
   "sideBar": true,
   "skip_h1_title": false,
   "title_cell": "Table of Contents",
   "title_sidebar": "Contents",
   "toc_cell": false,
   "toc_position": {},
   "toc_section_display": true,
   "toc_window_display": false
  }
 },
 "nbformat": 4,
 "nbformat_minor": 5
}
